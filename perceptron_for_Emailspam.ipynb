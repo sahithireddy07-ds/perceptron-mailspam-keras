{
  "nbformat": 4,
  "nbformat_minor": 0,
  "metadata": {
    "colab": {
      "name": "perceptron for Emailspam.ipynb",
      "provenance": [],
      "collapsed_sections": []
    },
    "kernelspec": {
      "name": "python3",
      "display_name": "Python 3"
    },
    "language_info": {
      "name": "python"
    }
  },
  "cells": [
    {
      "cell_type": "markdown",
      "metadata": {
        "id": "KblrHbHaLUSr"
      },
      "source": [
        "# Email Spam Classification "
      ]
    },
    {
      "cell_type": "markdown",
      "metadata": {
        "id": "L7YIY2ChL0Tr"
      },
      "source": [
        "\n",
        "- Dataset\n",
        "\n",
        "https://archive.ics.uci.edu/ml/datasets/Spambase\n",
        "\n",
        "- The dataset description:\n",
        "\n",
        "No null  values\n",
        "\n",
        "\n",
        "\n"
      ]
    },
    {
      "cell_type": "markdown",
      "metadata": {
        "id": "rZV1VHZpNB1d"
      },
      "source": [
        "labels:\n",
        "\n",
        "0:Not Spam \n",
        "\n",
        "1:Spam"
      ]
    },
    {
      "cell_type": "markdown",
      "metadata": {
        "id": "Xe4VWqnvL737"
      },
      "source": [
        "- Algorithms used:\n",
        "\n",
        "Neural network(Perceptron)\n",
        "\n",
        "\n"
      ]
    },
    {
      "cell_type": "markdown",
      "metadata": {
        "id": "6XG_Z8fRMYoo"
      },
      "source": [
        "Importing libraries"
      ]
    },
    {
      "cell_type": "code",
      "metadata": {
        "id": "avKUBOW6rpbi"
      },
      "source": [
        "# Importing libraries\n",
        "import pandas as pd\n",
        "import numpy as np\n",
        "import seaborn as sns\n",
        "import matplotlib.pyplot as plt  \n",
        "from sklearn.metrics import accuracy_score,confusion_matrix\n",
        "from sklearn.model_selection import train_test_split\n",
        "from sklearn.preprocessing import StandardScaler\n",
        "import tensorflow\n",
        "from tensorflow import keras\n",
        "from keras.models import Sequential\n",
        "from keras.layers import Dense"
      ],
      "execution_count": null,
      "outputs": []
    },
    {
      "cell_type": "markdown",
      "metadata": {
        "id": "_2gq3wxDMcpf"
      },
      "source": [
        "Loading data"
      ]
    },
    {
      "cell_type": "code",
      "metadata": {
        "id": "PFz-zN2ar3cG"
      },
      "source": [
        "# Loading dataset into pandas dataframe\n",
        "data = pd.read_csv('/content/spambase.data', names=[x for x in range(58)])"
      ],
      "execution_count": null,
      "outputs": []
    },
    {
      "cell_type": "code",
      "metadata": {
        "colab": {
          "base_uri": "https://localhost:8080/",
          "height": 226
        },
        "id": "t7OQR4EksR9v",
        "outputId": "d5331551-7ede-420e-a14d-4834395c9d1e"
      },
      "source": [
        "data.head()"
      ],
      "execution_count": null,
      "outputs": [
        {
          "output_type": "execute_result",
          "data": {
            "text/html": [
              "<div>\n",
              "<style scoped>\n",
              "    .dataframe tbody tr th:only-of-type {\n",
              "        vertical-align: middle;\n",
              "    }\n",
              "\n",
              "    .dataframe tbody tr th {\n",
              "        vertical-align: top;\n",
              "    }\n",
              "\n",
              "    .dataframe thead th {\n",
              "        text-align: right;\n",
              "    }\n",
              "</style>\n",
              "<table border=\"1\" class=\"dataframe\">\n",
              "  <thead>\n",
              "    <tr style=\"text-align: right;\">\n",
              "      <th></th>\n",
              "      <th>0</th>\n",
              "      <th>1</th>\n",
              "      <th>2</th>\n",
              "      <th>3</th>\n",
              "      <th>4</th>\n",
              "      <th>5</th>\n",
              "      <th>6</th>\n",
              "      <th>7</th>\n",
              "      <th>8</th>\n",
              "      <th>9</th>\n",
              "      <th>10</th>\n",
              "      <th>11</th>\n",
              "      <th>12</th>\n",
              "      <th>13</th>\n",
              "      <th>14</th>\n",
              "      <th>15</th>\n",
              "      <th>16</th>\n",
              "      <th>17</th>\n",
              "      <th>18</th>\n",
              "      <th>19</th>\n",
              "      <th>20</th>\n",
              "      <th>21</th>\n",
              "      <th>22</th>\n",
              "      <th>23</th>\n",
              "      <th>24</th>\n",
              "      <th>25</th>\n",
              "      <th>26</th>\n",
              "      <th>27</th>\n",
              "      <th>28</th>\n",
              "      <th>29</th>\n",
              "      <th>30</th>\n",
              "      <th>31</th>\n",
              "      <th>32</th>\n",
              "      <th>33</th>\n",
              "      <th>34</th>\n",
              "      <th>35</th>\n",
              "      <th>36</th>\n",
              "      <th>37</th>\n",
              "      <th>38</th>\n",
              "      <th>39</th>\n",
              "      <th>40</th>\n",
              "      <th>41</th>\n",
              "      <th>42</th>\n",
              "      <th>43</th>\n",
              "      <th>44</th>\n",
              "      <th>45</th>\n",
              "      <th>46</th>\n",
              "      <th>47</th>\n",
              "      <th>48</th>\n",
              "      <th>49</th>\n",
              "      <th>50</th>\n",
              "      <th>51</th>\n",
              "      <th>52</th>\n",
              "      <th>53</th>\n",
              "      <th>54</th>\n",
              "      <th>55</th>\n",
              "      <th>56</th>\n",
              "      <th>57</th>\n",
              "    </tr>\n",
              "  </thead>\n",
              "  <tbody>\n",
              "    <tr>\n",
              "      <th>0</th>\n",
              "      <td>0.00</td>\n",
              "      <td>0.64</td>\n",
              "      <td>0.64</td>\n",
              "      <td>0.0</td>\n",
              "      <td>0.32</td>\n",
              "      <td>0.00</td>\n",
              "      <td>0.00</td>\n",
              "      <td>0.00</td>\n",
              "      <td>0.00</td>\n",
              "      <td>0.00</td>\n",
              "      <td>0.00</td>\n",
              "      <td>0.64</td>\n",
              "      <td>0.00</td>\n",
              "      <td>0.00</td>\n",
              "      <td>0.00</td>\n",
              "      <td>0.32</td>\n",
              "      <td>0.00</td>\n",
              "      <td>1.29</td>\n",
              "      <td>1.93</td>\n",
              "      <td>0.00</td>\n",
              "      <td>0.96</td>\n",
              "      <td>0.0</td>\n",
              "      <td>0.00</td>\n",
              "      <td>0.00</td>\n",
              "      <td>0.0</td>\n",
              "      <td>0.0</td>\n",
              "      <td>0.0</td>\n",
              "      <td>0.0</td>\n",
              "      <td>0.0</td>\n",
              "      <td>0.0</td>\n",
              "      <td>0.0</td>\n",
              "      <td>0.0</td>\n",
              "      <td>0.0</td>\n",
              "      <td>0.0</td>\n",
              "      <td>0.0</td>\n",
              "      <td>0.0</td>\n",
              "      <td>0.00</td>\n",
              "      <td>0.0</td>\n",
              "      <td>0.0</td>\n",
              "      <td>0.00</td>\n",
              "      <td>0.0</td>\n",
              "      <td>0.0</td>\n",
              "      <td>0.00</td>\n",
              "      <td>0.0</td>\n",
              "      <td>0.00</td>\n",
              "      <td>0.00</td>\n",
              "      <td>0.0</td>\n",
              "      <td>0.0</td>\n",
              "      <td>0.00</td>\n",
              "      <td>0.000</td>\n",
              "      <td>0.0</td>\n",
              "      <td>0.778</td>\n",
              "      <td>0.000</td>\n",
              "      <td>0.000</td>\n",
              "      <td>3.756</td>\n",
              "      <td>61</td>\n",
              "      <td>278</td>\n",
              "      <td>1</td>\n",
              "    </tr>\n",
              "    <tr>\n",
              "      <th>1</th>\n",
              "      <td>0.21</td>\n",
              "      <td>0.28</td>\n",
              "      <td>0.50</td>\n",
              "      <td>0.0</td>\n",
              "      <td>0.14</td>\n",
              "      <td>0.28</td>\n",
              "      <td>0.21</td>\n",
              "      <td>0.07</td>\n",
              "      <td>0.00</td>\n",
              "      <td>0.94</td>\n",
              "      <td>0.21</td>\n",
              "      <td>0.79</td>\n",
              "      <td>0.65</td>\n",
              "      <td>0.21</td>\n",
              "      <td>0.14</td>\n",
              "      <td>0.14</td>\n",
              "      <td>0.07</td>\n",
              "      <td>0.28</td>\n",
              "      <td>3.47</td>\n",
              "      <td>0.00</td>\n",
              "      <td>1.59</td>\n",
              "      <td>0.0</td>\n",
              "      <td>0.43</td>\n",
              "      <td>0.43</td>\n",
              "      <td>0.0</td>\n",
              "      <td>0.0</td>\n",
              "      <td>0.0</td>\n",
              "      <td>0.0</td>\n",
              "      <td>0.0</td>\n",
              "      <td>0.0</td>\n",
              "      <td>0.0</td>\n",
              "      <td>0.0</td>\n",
              "      <td>0.0</td>\n",
              "      <td>0.0</td>\n",
              "      <td>0.0</td>\n",
              "      <td>0.0</td>\n",
              "      <td>0.07</td>\n",
              "      <td>0.0</td>\n",
              "      <td>0.0</td>\n",
              "      <td>0.00</td>\n",
              "      <td>0.0</td>\n",
              "      <td>0.0</td>\n",
              "      <td>0.00</td>\n",
              "      <td>0.0</td>\n",
              "      <td>0.00</td>\n",
              "      <td>0.00</td>\n",
              "      <td>0.0</td>\n",
              "      <td>0.0</td>\n",
              "      <td>0.00</td>\n",
              "      <td>0.132</td>\n",
              "      <td>0.0</td>\n",
              "      <td>0.372</td>\n",
              "      <td>0.180</td>\n",
              "      <td>0.048</td>\n",
              "      <td>5.114</td>\n",
              "      <td>101</td>\n",
              "      <td>1028</td>\n",
              "      <td>1</td>\n",
              "    </tr>\n",
              "    <tr>\n",
              "      <th>2</th>\n",
              "      <td>0.06</td>\n",
              "      <td>0.00</td>\n",
              "      <td>0.71</td>\n",
              "      <td>0.0</td>\n",
              "      <td>1.23</td>\n",
              "      <td>0.19</td>\n",
              "      <td>0.19</td>\n",
              "      <td>0.12</td>\n",
              "      <td>0.64</td>\n",
              "      <td>0.25</td>\n",
              "      <td>0.38</td>\n",
              "      <td>0.45</td>\n",
              "      <td>0.12</td>\n",
              "      <td>0.00</td>\n",
              "      <td>1.75</td>\n",
              "      <td>0.06</td>\n",
              "      <td>0.06</td>\n",
              "      <td>1.03</td>\n",
              "      <td>1.36</td>\n",
              "      <td>0.32</td>\n",
              "      <td>0.51</td>\n",
              "      <td>0.0</td>\n",
              "      <td>1.16</td>\n",
              "      <td>0.06</td>\n",
              "      <td>0.0</td>\n",
              "      <td>0.0</td>\n",
              "      <td>0.0</td>\n",
              "      <td>0.0</td>\n",
              "      <td>0.0</td>\n",
              "      <td>0.0</td>\n",
              "      <td>0.0</td>\n",
              "      <td>0.0</td>\n",
              "      <td>0.0</td>\n",
              "      <td>0.0</td>\n",
              "      <td>0.0</td>\n",
              "      <td>0.0</td>\n",
              "      <td>0.00</td>\n",
              "      <td>0.0</td>\n",
              "      <td>0.0</td>\n",
              "      <td>0.06</td>\n",
              "      <td>0.0</td>\n",
              "      <td>0.0</td>\n",
              "      <td>0.12</td>\n",
              "      <td>0.0</td>\n",
              "      <td>0.06</td>\n",
              "      <td>0.06</td>\n",
              "      <td>0.0</td>\n",
              "      <td>0.0</td>\n",
              "      <td>0.01</td>\n",
              "      <td>0.143</td>\n",
              "      <td>0.0</td>\n",
              "      <td>0.276</td>\n",
              "      <td>0.184</td>\n",
              "      <td>0.010</td>\n",
              "      <td>9.821</td>\n",
              "      <td>485</td>\n",
              "      <td>2259</td>\n",
              "      <td>1</td>\n",
              "    </tr>\n",
              "    <tr>\n",
              "      <th>3</th>\n",
              "      <td>0.00</td>\n",
              "      <td>0.00</td>\n",
              "      <td>0.00</td>\n",
              "      <td>0.0</td>\n",
              "      <td>0.63</td>\n",
              "      <td>0.00</td>\n",
              "      <td>0.31</td>\n",
              "      <td>0.63</td>\n",
              "      <td>0.31</td>\n",
              "      <td>0.63</td>\n",
              "      <td>0.31</td>\n",
              "      <td>0.31</td>\n",
              "      <td>0.31</td>\n",
              "      <td>0.00</td>\n",
              "      <td>0.00</td>\n",
              "      <td>0.31</td>\n",
              "      <td>0.00</td>\n",
              "      <td>0.00</td>\n",
              "      <td>3.18</td>\n",
              "      <td>0.00</td>\n",
              "      <td>0.31</td>\n",
              "      <td>0.0</td>\n",
              "      <td>0.00</td>\n",
              "      <td>0.00</td>\n",
              "      <td>0.0</td>\n",
              "      <td>0.0</td>\n",
              "      <td>0.0</td>\n",
              "      <td>0.0</td>\n",
              "      <td>0.0</td>\n",
              "      <td>0.0</td>\n",
              "      <td>0.0</td>\n",
              "      <td>0.0</td>\n",
              "      <td>0.0</td>\n",
              "      <td>0.0</td>\n",
              "      <td>0.0</td>\n",
              "      <td>0.0</td>\n",
              "      <td>0.00</td>\n",
              "      <td>0.0</td>\n",
              "      <td>0.0</td>\n",
              "      <td>0.00</td>\n",
              "      <td>0.0</td>\n",
              "      <td>0.0</td>\n",
              "      <td>0.00</td>\n",
              "      <td>0.0</td>\n",
              "      <td>0.00</td>\n",
              "      <td>0.00</td>\n",
              "      <td>0.0</td>\n",
              "      <td>0.0</td>\n",
              "      <td>0.00</td>\n",
              "      <td>0.137</td>\n",
              "      <td>0.0</td>\n",
              "      <td>0.137</td>\n",
              "      <td>0.000</td>\n",
              "      <td>0.000</td>\n",
              "      <td>3.537</td>\n",
              "      <td>40</td>\n",
              "      <td>191</td>\n",
              "      <td>1</td>\n",
              "    </tr>\n",
              "    <tr>\n",
              "      <th>4</th>\n",
              "      <td>0.00</td>\n",
              "      <td>0.00</td>\n",
              "      <td>0.00</td>\n",
              "      <td>0.0</td>\n",
              "      <td>0.63</td>\n",
              "      <td>0.00</td>\n",
              "      <td>0.31</td>\n",
              "      <td>0.63</td>\n",
              "      <td>0.31</td>\n",
              "      <td>0.63</td>\n",
              "      <td>0.31</td>\n",
              "      <td>0.31</td>\n",
              "      <td>0.31</td>\n",
              "      <td>0.00</td>\n",
              "      <td>0.00</td>\n",
              "      <td>0.31</td>\n",
              "      <td>0.00</td>\n",
              "      <td>0.00</td>\n",
              "      <td>3.18</td>\n",
              "      <td>0.00</td>\n",
              "      <td>0.31</td>\n",
              "      <td>0.0</td>\n",
              "      <td>0.00</td>\n",
              "      <td>0.00</td>\n",
              "      <td>0.0</td>\n",
              "      <td>0.0</td>\n",
              "      <td>0.0</td>\n",
              "      <td>0.0</td>\n",
              "      <td>0.0</td>\n",
              "      <td>0.0</td>\n",
              "      <td>0.0</td>\n",
              "      <td>0.0</td>\n",
              "      <td>0.0</td>\n",
              "      <td>0.0</td>\n",
              "      <td>0.0</td>\n",
              "      <td>0.0</td>\n",
              "      <td>0.00</td>\n",
              "      <td>0.0</td>\n",
              "      <td>0.0</td>\n",
              "      <td>0.00</td>\n",
              "      <td>0.0</td>\n",
              "      <td>0.0</td>\n",
              "      <td>0.00</td>\n",
              "      <td>0.0</td>\n",
              "      <td>0.00</td>\n",
              "      <td>0.00</td>\n",
              "      <td>0.0</td>\n",
              "      <td>0.0</td>\n",
              "      <td>0.00</td>\n",
              "      <td>0.135</td>\n",
              "      <td>0.0</td>\n",
              "      <td>0.135</td>\n",
              "      <td>0.000</td>\n",
              "      <td>0.000</td>\n",
              "      <td>3.537</td>\n",
              "      <td>40</td>\n",
              "      <td>191</td>\n",
              "      <td>1</td>\n",
              "    </tr>\n",
              "  </tbody>\n",
              "</table>\n",
              "</div>"
            ],
            "text/plain": [
              "     0     1     2    3     4     5   ...     52     53     54   55    56  57\n",
              "0  0.00  0.64  0.64  0.0  0.32  0.00  ...  0.000  0.000  3.756   61   278   1\n",
              "1  0.21  0.28  0.50  0.0  0.14  0.28  ...  0.180  0.048  5.114  101  1028   1\n",
              "2  0.06  0.00  0.71  0.0  1.23  0.19  ...  0.184  0.010  9.821  485  2259   1\n",
              "3  0.00  0.00  0.00  0.0  0.63  0.00  ...  0.000  0.000  3.537   40   191   1\n",
              "4  0.00  0.00  0.00  0.0  0.63  0.00  ...  0.000  0.000  3.537   40   191   1\n",
              "\n",
              "[5 rows x 58 columns]"
            ]
          },
          "metadata": {
            "tags": []
          },
          "execution_count": 58
        }
      ]
    },
    {
      "cell_type": "markdown",
      "metadata": {
        "id": "AixoGNyZMhOH"
      },
      "source": [
        "# Data preprocessing"
      ]
    },
    {
      "cell_type": "markdown",
      "metadata": {
        "id": "idyAtIVKMoNi"
      },
      "source": [
        "- Type of data attributes"
      ]
    },
    {
      "cell_type": "code",
      "metadata": {
        "colab": {
          "base_uri": "https://localhost:8080/"
        },
        "id": "8le48vQt8AZn",
        "outputId": "64b134ed-3e6e-42f6-9591-ac28af9ce613"
      },
      "source": [
        "data.info()"
      ],
      "execution_count": null,
      "outputs": [
        {
          "output_type": "stream",
          "text": [
            "<class 'pandas.core.frame.DataFrame'>\n",
            "RangeIndex: 4601 entries, 0 to 4600\n",
            "Data columns (total 58 columns):\n",
            " #   Column  Non-Null Count  Dtype  \n",
            "---  ------  --------------  -----  \n",
            " 0   0       4601 non-null   float64\n",
            " 1   1       4601 non-null   float64\n",
            " 2   2       4601 non-null   float64\n",
            " 3   3       4601 non-null   float64\n",
            " 4   4       4601 non-null   float64\n",
            " 5   5       4601 non-null   float64\n",
            " 6   6       4601 non-null   float64\n",
            " 7   7       4601 non-null   float64\n",
            " 8   8       4601 non-null   float64\n",
            " 9   9       4601 non-null   float64\n",
            " 10  10      4601 non-null   float64\n",
            " 11  11      4601 non-null   float64\n",
            " 12  12      4601 non-null   float64\n",
            " 13  13      4601 non-null   float64\n",
            " 14  14      4601 non-null   float64\n",
            " 15  15      4601 non-null   float64\n",
            " 16  16      4601 non-null   float64\n",
            " 17  17      4601 non-null   float64\n",
            " 18  18      4601 non-null   float64\n",
            " 19  19      4601 non-null   float64\n",
            " 20  20      4601 non-null   float64\n",
            " 21  21      4601 non-null   float64\n",
            " 22  22      4601 non-null   float64\n",
            " 23  23      4601 non-null   float64\n",
            " 24  24      4601 non-null   float64\n",
            " 25  25      4601 non-null   float64\n",
            " 26  26      4601 non-null   float64\n",
            " 27  27      4601 non-null   float64\n",
            " 28  28      4601 non-null   float64\n",
            " 29  29      4601 non-null   float64\n",
            " 30  30      4601 non-null   float64\n",
            " 31  31      4601 non-null   float64\n",
            " 32  32      4601 non-null   float64\n",
            " 33  33      4601 non-null   float64\n",
            " 34  34      4601 non-null   float64\n",
            " 35  35      4601 non-null   float64\n",
            " 36  36      4601 non-null   float64\n",
            " 37  37      4601 non-null   float64\n",
            " 38  38      4601 non-null   float64\n",
            " 39  39      4601 non-null   float64\n",
            " 40  40      4601 non-null   float64\n",
            " 41  41      4601 non-null   float64\n",
            " 42  42      4601 non-null   float64\n",
            " 43  43      4601 non-null   float64\n",
            " 44  44      4601 non-null   float64\n",
            " 45  45      4601 non-null   float64\n",
            " 46  46      4601 non-null   float64\n",
            " 47  47      4601 non-null   float64\n",
            " 48  48      4601 non-null   float64\n",
            " 49  49      4601 non-null   float64\n",
            " 50  50      4601 non-null   float64\n",
            " 51  51      4601 non-null   float64\n",
            " 52  52      4601 non-null   float64\n",
            " 53  53      4601 non-null   float64\n",
            " 54  54      4601 non-null   float64\n",
            " 55  55      4601 non-null   int64  \n",
            " 56  56      4601 non-null   int64  \n",
            " 57  57      4601 non-null   int64  \n",
            "dtypes: float64(55), int64(3)\n",
            "memory usage: 2.0 MB\n"
          ],
          "name": "stdout"
        }
      ]
    },
    {
      "cell_type": "markdown",
      "metadata": {
        "id": "EIXn3QpCM8zS"
      },
      "source": [
        "- Shape of data"
      ]
    },
    {
      "cell_type": "code",
      "metadata": {
        "colab": {
          "base_uri": "https://localhost:8080/"
        },
        "id": "EofwCxVPEKbv",
        "outputId": "57adfd1f-82e2-492c-ae75-7ae1c34bf6c2"
      },
      "source": [
        "data.shape"
      ],
      "execution_count": null,
      "outputs": [
        {
          "output_type": "execute_result",
          "data": {
            "text/plain": [
              "(4601, 58)"
            ]
          },
          "metadata": {
            "tags": []
          },
          "execution_count": 60
        }
      ]
    },
    {
      "cell_type": "markdown",
      "metadata": {
        "id": "L0ZwxYzf03dK"
      },
      "source": [
        "# Visualization"
      ]
    },
    {
      "cell_type": "code",
      "metadata": {
        "colab": {
          "base_uri": "https://localhost:8080/",
          "height": 265
        },
        "id": "7ps3fCyZ1VmC",
        "outputId": "458bdc1b-a6aa-4e8d-91b1-7a934e893277"
      },
      "source": [
        "a=data[57]\n",
        "b=len(a[a==1])\n",
        "c=len(a[a==0])\n",
        "plt.bar([\"spam\",\"not spam\"],[b,c])\n",
        "plt.show()"
      ],
      "execution_count": null,
      "outputs": [
        {
          "output_type": "display_data",
          "data": {
            "image/png": "[encoded data removed]",
            "text/plain": [
              "<Figure size 432x288 with 1 Axes>"
            ]
          },
          "metadata": {
            "tags": [],
            "needs_background": "light"
          }
        }
      ]
    },
    {
      "cell_type": "markdown",
      "metadata": {
        "id": "FG8Yx1daMtR-"
      },
      "source": [
        "# Selection and training a model"
      ]
    },
    {
      "cell_type": "code",
      "metadata": {
        "id": "xbtgnR12sw9i"
      },
      "source": [
        "Y = data[57]\n",
        "del data[57]\n",
        "X = data"
      ],
      "execution_count": null,
      "outputs": []
    },
    {
      "cell_type": "code",
      "metadata": {
        "colab": {
          "base_uri": "https://localhost:8080/"
        },
        "id": "bLsE_mkOtiZT",
        "outputId": "f6abcea4-ac23-46f4-f369-a6129834112e"
      },
      "source": [
        "Y.value_counts()"
      ],
      "execution_count": null,
      "outputs": [
        {
          "output_type": "execute_result",
          "data": {
            "text/plain": [
              "0    2788\n",
              "1    1813\n",
              "Name: 57, dtype: int64"
            ]
          },
          "metadata": {
            "tags": []
          },
          "execution_count": 63
        }
      ]
    },
    {
      "cell_type": "code",
      "metadata": {
        "id": "vKhfWXl6s9p-"
      },
      "source": [
        "# Now lets lets split dataset into train and test set using scikit learn\n",
        "X_train, X_test, y_train, y_test = train_test_split(X, Y, test_size=0.3,random_state=42)\n",
        "# Now using scikit learn lets scale dataset using standardscalar\n",
        "scaler = StandardScaler()\n",
        "X_train = scaler.fit_transform(X_train)\n",
        "X_test = scaler.transform(X_test)"
      ],
      "execution_count": null,
      "outputs": []
    },
    {
      "cell_type": "code",
      "metadata": {
        "colab": {
          "base_uri": "https://localhost:8080/"
        },
        "id": "wBwrR7fXOk9v",
        "outputId": "7fe1fcf3-f768-4846-bacf-84db96759133"
      },
      "source": [
        "len(y_test)"
      ],
      "execution_count": null,
      "outputs": [
        {
          "output_type": "execute_result",
          "data": {
            "text/plain": [
              "1381"
            ]
          },
          "metadata": {
            "tags": []
          },
          "execution_count": 65
        }
      ]
    },
    {
      "cell_type": "code",
      "metadata": {
        "id": "7u-owGn1UKSM",
        "colab": {
          "base_uri": "https://localhost:8080/"
        },
        "outputId": "3aad00bc-1e0f-4201-ecb7-6b109bf1078a"
      },
      "source": [
        "X_train.shape"
      ],
      "execution_count": null,
      "outputs": [
        {
          "output_type": "execute_result",
          "data": {
            "text/plain": [
              "(3220, 57)"
            ]
          },
          "metadata": {
            "tags": []
          },
          "execution_count": 66
        }
      ]
    },
    {
      "cell_type": "code",
      "metadata": {
        "colab": {
          "base_uri": "https://localhost:8080/"
        },
        "id": "qxiXu7uEq7Wk",
        "outputId": "64301c8a-bef0-43d9-9713-6255f581c90f"
      },
      "source": [
        "model = Sequential()\n",
        "model.add(Dense(1, activation='sigmoid'))\n",
        "# Compile model\n",
        "model.compile(loss='binary_crossentropy', optimizer='adam', metrics=['accuracy'])\n",
        "a=model.fit(X_train,y_train, epochs=200,validation_split=0.1)"
      ],
      "execution_count": null,
      "outputs": [
        {
          "output_type": "stream",
          "text": [
            "Epoch 1/200\n",
            "91/91 [==============================] - 1s 4ms/step - loss: 0.8507 - accuracy: 0.4799 - val_loss: 0.6416 - val_accuracy: 0.6553\n",
            "Epoch 2/200\n",
            "91/91 [==============================] - 0s 1ms/step - loss: 0.6222 - accuracy: 0.6581 - val_loss: 0.5123 - val_accuracy: 0.7950\n",
            "Epoch 3/200\n",
            "91/91 [==============================] - 0s 1ms/step - loss: 0.4926 - accuracy: 0.8100 - val_loss: 0.4440 - val_accuracy: 0.8696\n",
            "Epoch 4/200\n",
            "91/91 [==============================] - 0s 1ms/step - loss: 0.4350 - accuracy: 0.8525 - val_loss: 0.4004 - val_accuracy: 0.8820\n",
            "Epoch 5/200\n",
            "91/91 [==============================] - 0s 1ms/step - loss: 0.3839 - accuracy: 0.8790 - val_loss: 0.3728 - val_accuracy: 0.8851\n",
            "Epoch 6/200\n",
            "91/91 [==============================] - 0s 1ms/step - loss: 0.3498 - accuracy: 0.8968 - val_loss: 0.3533 - val_accuracy: 0.8789\n",
            "Epoch 7/200\n",
            "91/91 [==============================] - 0s 1ms/step - loss: 0.3437 - accuracy: 0.8921 - val_loss: 0.3369 - val_accuracy: 0.8851\n",
            "Epoch 8/200\n",
            "91/91 [==============================] - 0s 2ms/step - loss: 0.3180 - accuracy: 0.9016 - val_loss: 0.3247 - val_accuracy: 0.8882\n",
            "Epoch 9/200\n",
            "91/91 [==============================] - 0s 2ms/step - loss: 0.3217 - accuracy: 0.8995 - val_loss: 0.3150 - val_accuracy: 0.8882\n",
            "Epoch 10/200\n",
            "91/91 [==============================] - 0s 2ms/step - loss: 0.3057 - accuracy: 0.9054 - val_loss: 0.3066 - val_accuracy: 0.8944\n",
            "Epoch 11/200\n",
            "91/91 [==============================] - 0s 2ms/step - loss: 0.2963 - accuracy: 0.9087 - val_loss: 0.2986 - val_accuracy: 0.8975\n",
            "Epoch 12/200\n",
            "91/91 [==============================] - 0s 2ms/step - loss: 0.2800 - accuracy: 0.9152 - val_loss: 0.2920 - val_accuracy: 0.8975\n",
            "Epoch 13/200\n",
            "91/91 [==============================] - 0s 2ms/step - loss: 0.2868 - accuracy: 0.9094 - val_loss: 0.2862 - val_accuracy: 0.9006\n",
            "Epoch 14/200\n",
            "91/91 [==============================] - 0s 2ms/step - loss: 0.2711 - accuracy: 0.9146 - val_loss: 0.2800 - val_accuracy: 0.9006\n",
            "Epoch 15/200\n",
            "91/91 [==============================] - 0s 2ms/step - loss: 0.2754 - accuracy: 0.9101 - val_loss: 0.2747 - val_accuracy: 0.9006\n",
            "Epoch 16/200\n",
            "91/91 [==============================] - 0s 2ms/step - loss: 0.2702 - accuracy: 0.9115 - val_loss: 0.2709 - val_accuracy: 0.9006\n",
            "Epoch 17/200\n",
            "91/91 [==============================] - 0s 2ms/step - loss: 0.2592 - accuracy: 0.9168 - val_loss: 0.2664 - val_accuracy: 0.9037\n",
            "Epoch 18/200\n",
            "91/91 [==============================] - 0s 2ms/step - loss: 0.2610 - accuracy: 0.9149 - val_loss: 0.2622 - val_accuracy: 0.9068\n",
            "Epoch 19/200\n",
            "91/91 [==============================] - 0s 2ms/step - loss: 0.2520 - accuracy: 0.9220 - val_loss: 0.2590 - val_accuracy: 0.9037\n",
            "Epoch 20/200\n",
            "91/91 [==============================] - 0s 2ms/step - loss: 0.2536 - accuracy: 0.9167 - val_loss: 0.2558 - val_accuracy: 0.9037\n",
            "Epoch 21/200\n",
            "91/91 [==============================] - 0s 2ms/step - loss: 0.2768 - accuracy: 0.9067 - val_loss: 0.2528 - val_accuracy: 0.9099\n",
            "Epoch 22/200\n",
            "91/91 [==============================] - 0s 2ms/step - loss: 0.2657 - accuracy: 0.9078 - val_loss: 0.2498 - val_accuracy: 0.9068\n",
            "Epoch 23/200\n",
            "91/91 [==============================] - 0s 2ms/step - loss: 0.2393 - accuracy: 0.9210 - val_loss: 0.2480 - val_accuracy: 0.9099\n",
            "Epoch 24/200\n",
            "91/91 [==============================] - 0s 2ms/step - loss: 0.2277 - accuracy: 0.9215 - val_loss: 0.2455 - val_accuracy: 0.9099\n",
            "Epoch 25/200\n",
            "91/91 [==============================] - 0s 2ms/step - loss: 0.2548 - accuracy: 0.9094 - val_loss: 0.2430 - val_accuracy: 0.9099\n",
            "Epoch 26/200\n",
            "91/91 [==============================] - 0s 2ms/step - loss: 0.2530 - accuracy: 0.9045 - val_loss: 0.2411 - val_accuracy: 0.9130\n",
            "Epoch 27/200\n",
            "91/91 [==============================] - 0s 2ms/step - loss: 0.2571 - accuracy: 0.9115 - val_loss: 0.2399 - val_accuracy: 0.9099\n",
            "Epoch 28/200\n",
            "91/91 [==============================] - 0s 2ms/step - loss: 0.2480 - accuracy: 0.9144 - val_loss: 0.2382 - val_accuracy: 0.9099\n",
            "Epoch 29/200\n",
            "91/91 [==============================] - 0s 2ms/step - loss: 0.2303 - accuracy: 0.9232 - val_loss: 0.2364 - val_accuracy: 0.9130\n",
            "Epoch 30/200\n",
            "91/91 [==============================] - 0s 2ms/step - loss: 0.2464 - accuracy: 0.9113 - val_loss: 0.2353 - val_accuracy: 0.9130\n",
            "Epoch 31/200\n",
            "91/91 [==============================] - 0s 2ms/step - loss: 0.2421 - accuracy: 0.9140 - val_loss: 0.2346 - val_accuracy: 0.9099\n",
            "Epoch 32/200\n",
            "91/91 [==============================] - 0s 2ms/step - loss: 0.2396 - accuracy: 0.9158 - val_loss: 0.2332 - val_accuracy: 0.9099\n",
            "Epoch 33/200\n",
            "91/91 [==============================] - 0s 2ms/step - loss: 0.2414 - accuracy: 0.9118 - val_loss: 0.2325 - val_accuracy: 0.9099\n",
            "Epoch 34/200\n",
            "91/91 [==============================] - 0s 2ms/step - loss: 0.2444 - accuracy: 0.9131 - val_loss: 0.2314 - val_accuracy: 0.9099\n",
            "Epoch 35/200\n",
            "91/91 [==============================] - 0s 2ms/step - loss: 0.2414 - accuracy: 0.9139 - val_loss: 0.2308 - val_accuracy: 0.9099\n",
            "Epoch 36/200\n",
            "91/91 [==============================] - 0s 2ms/step - loss: 0.2295 - accuracy: 0.9202 - val_loss: 0.2305 - val_accuracy: 0.9099\n",
            "Epoch 37/200\n",
            "91/91 [==============================] - 0s 2ms/step - loss: 0.2335 - accuracy: 0.9196 - val_loss: 0.2290 - val_accuracy: 0.9130\n",
            "Epoch 38/200\n",
            "91/91 [==============================] - 0s 1ms/step - loss: 0.2464 - accuracy: 0.9153 - val_loss: 0.2287 - val_accuracy: 0.9161\n",
            "Epoch 39/200\n",
            "91/91 [==============================] - 0s 2ms/step - loss: 0.2343 - accuracy: 0.9098 - val_loss: 0.2281 - val_accuracy: 0.9130\n",
            "Epoch 40/200\n",
            "91/91 [==============================] - 0s 2ms/step - loss: 0.2361 - accuracy: 0.9140 - val_loss: 0.2276 - val_accuracy: 0.9193\n",
            "Epoch 41/200\n",
            "91/91 [==============================] - 0s 2ms/step - loss: 0.2532 - accuracy: 0.9114 - val_loss: 0.2275 - val_accuracy: 0.9193\n",
            "Epoch 42/200\n",
            "91/91 [==============================] - 0s 2ms/step - loss: 0.2467 - accuracy: 0.9153 - val_loss: 0.2268 - val_accuracy: 0.9193\n",
            "Epoch 43/200\n",
            "91/91 [==============================] - 0s 2ms/step - loss: 0.2303 - accuracy: 0.9202 - val_loss: 0.2267 - val_accuracy: 0.9193\n",
            "Epoch 44/200\n",
            "91/91 [==============================] - 0s 2ms/step - loss: 0.2378 - accuracy: 0.9135 - val_loss: 0.2263 - val_accuracy: 0.9224\n",
            "Epoch 45/200\n",
            "91/91 [==============================] - 0s 2ms/step - loss: 0.2376 - accuracy: 0.9104 - val_loss: 0.2258 - val_accuracy: 0.9317\n",
            "Epoch 46/200\n",
            "91/91 [==============================] - 0s 2ms/step - loss: 0.2235 - accuracy: 0.9225 - val_loss: 0.2255 - val_accuracy: 0.9317\n",
            "Epoch 47/200\n",
            "91/91 [==============================] - 0s 2ms/step - loss: 0.2400 - accuracy: 0.9108 - val_loss: 0.2254 - val_accuracy: 0.9317\n",
            "Epoch 48/200\n",
            "91/91 [==============================] - 0s 2ms/step - loss: 0.2343 - accuracy: 0.9218 - val_loss: 0.2252 - val_accuracy: 0.9317\n",
            "Epoch 49/200\n",
            "91/91 [==============================] - 0s 2ms/step - loss: 0.2457 - accuracy: 0.9107 - val_loss: 0.2250 - val_accuracy: 0.9317\n",
            "Epoch 50/200\n",
            "91/91 [==============================] - 0s 2ms/step - loss: 0.2297 - accuracy: 0.9213 - val_loss: 0.2247 - val_accuracy: 0.9317\n",
            "Epoch 51/200\n",
            "91/91 [==============================] - 0s 2ms/step - loss: 0.2554 - accuracy: 0.9130 - val_loss: 0.2246 - val_accuracy: 0.9317\n",
            "Epoch 52/200\n",
            "91/91 [==============================] - 0s 2ms/step - loss: 0.2240 - accuracy: 0.9222 - val_loss: 0.2242 - val_accuracy: 0.9317\n",
            "Epoch 53/200\n",
            "91/91 [==============================] - 0s 2ms/step - loss: 0.2232 - accuracy: 0.9228 - val_loss: 0.2241 - val_accuracy: 0.9317\n",
            "Epoch 54/200\n",
            "91/91 [==============================] - 0s 2ms/step - loss: 0.2229 - accuracy: 0.9237 - val_loss: 0.2239 - val_accuracy: 0.9317\n",
            "Epoch 55/200\n",
            "91/91 [==============================] - 0s 2ms/step - loss: 0.2213 - accuracy: 0.9275 - val_loss: 0.2237 - val_accuracy: 0.9317\n",
            "Epoch 56/200\n",
            "91/91 [==============================] - 0s 2ms/step - loss: 0.2353 - accuracy: 0.9180 - val_loss: 0.2238 - val_accuracy: 0.9317\n",
            "Epoch 57/200\n",
            "91/91 [==============================] - 0s 2ms/step - loss: 0.2379 - accuracy: 0.9103 - val_loss: 0.2236 - val_accuracy: 0.9317\n",
            "Epoch 58/200\n",
            "91/91 [==============================] - 0s 2ms/step - loss: 0.2206 - accuracy: 0.9256 - val_loss: 0.2238 - val_accuracy: 0.9317\n",
            "Epoch 59/200\n",
            "91/91 [==============================] - 0s 2ms/step - loss: 0.2343 - accuracy: 0.9126 - val_loss: 0.2234 - val_accuracy: 0.9317\n",
            "Epoch 60/200\n",
            "91/91 [==============================] - 0s 2ms/step - loss: 0.2296 - accuracy: 0.9281 - val_loss: 0.2234 - val_accuracy: 0.9317\n",
            "Epoch 61/200\n",
            "91/91 [==============================] - 0s 2ms/step - loss: 0.2261 - accuracy: 0.9162 - val_loss: 0.2232 - val_accuracy: 0.9317\n",
            "Epoch 62/200\n",
            "91/91 [==============================] - 0s 2ms/step - loss: 0.2225 - accuracy: 0.9220 - val_loss: 0.2233 - val_accuracy: 0.9317\n",
            "Epoch 63/200\n",
            "91/91 [==============================] - 0s 2ms/step - loss: 0.2282 - accuracy: 0.9215 - val_loss: 0.2230 - val_accuracy: 0.9317\n",
            "Epoch 64/200\n",
            "91/91 [==============================] - 0s 2ms/step - loss: 0.2271 - accuracy: 0.9315 - val_loss: 0.2232 - val_accuracy: 0.9317\n",
            "Epoch 65/200\n",
            "91/91 [==============================] - 0s 2ms/step - loss: 0.2106 - accuracy: 0.9267 - val_loss: 0.2228 - val_accuracy: 0.9317\n",
            "Epoch 66/200\n",
            "91/91 [==============================] - 0s 2ms/step - loss: 0.2341 - accuracy: 0.9226 - val_loss: 0.2230 - val_accuracy: 0.9317\n",
            "Epoch 67/200\n",
            "91/91 [==============================] - 0s 2ms/step - loss: 0.2147 - accuracy: 0.9242 - val_loss: 0.2227 - val_accuracy: 0.9348\n",
            "Epoch 68/200\n",
            "91/91 [==============================] - 0s 2ms/step - loss: 0.2181 - accuracy: 0.9251 - val_loss: 0.2224 - val_accuracy: 0.9348\n",
            "Epoch 69/200\n",
            "91/91 [==============================] - 0s 2ms/step - loss: 0.2261 - accuracy: 0.9188 - val_loss: 0.2228 - val_accuracy: 0.9317\n",
            "Epoch 70/200\n",
            "91/91 [==============================] - 0s 2ms/step - loss: 0.2172 - accuracy: 0.9217 - val_loss: 0.2226 - val_accuracy: 0.9348\n",
            "Epoch 71/200\n",
            "91/91 [==============================] - 0s 2ms/step - loss: 0.2232 - accuracy: 0.9212 - val_loss: 0.2228 - val_accuracy: 0.9348\n",
            "Epoch 72/200\n",
            "91/91 [==============================] - 0s 2ms/step - loss: 0.2409 - accuracy: 0.9128 - val_loss: 0.2225 - val_accuracy: 0.9348\n",
            "Epoch 73/200\n",
            "91/91 [==============================] - 0s 2ms/step - loss: 0.2145 - accuracy: 0.9296 - val_loss: 0.2224 - val_accuracy: 0.9348\n",
            "Epoch 74/200\n",
            "91/91 [==============================] - 0s 2ms/step - loss: 0.2191 - accuracy: 0.9278 - val_loss: 0.2220 - val_accuracy: 0.9348\n",
            "Epoch 75/200\n",
            "91/91 [==============================] - 0s 2ms/step - loss: 0.2258 - accuracy: 0.9207 - val_loss: 0.2223 - val_accuracy: 0.9348\n",
            "Epoch 76/200\n",
            "91/91 [==============================] - 0s 2ms/step - loss: 0.2210 - accuracy: 0.9229 - val_loss: 0.2223 - val_accuracy: 0.9348\n",
            "Epoch 77/200\n",
            "91/91 [==============================] - 0s 2ms/step - loss: 0.2254 - accuracy: 0.9215 - val_loss: 0.2224 - val_accuracy: 0.9348\n",
            "Epoch 78/200\n",
            "91/91 [==============================] - 0s 2ms/step - loss: 0.2293 - accuracy: 0.9190 - val_loss: 0.2221 - val_accuracy: 0.9348\n",
            "Epoch 79/200\n",
            "91/91 [==============================] - 0s 2ms/step - loss: 0.2106 - accuracy: 0.9245 - val_loss: 0.2223 - val_accuracy: 0.9348\n",
            "Epoch 80/200\n",
            "91/91 [==============================] - 0s 2ms/step - loss: 0.2314 - accuracy: 0.9199 - val_loss: 0.2223 - val_accuracy: 0.9348\n",
            "Epoch 81/200\n",
            "91/91 [==============================] - 0s 2ms/step - loss: 0.2142 - accuracy: 0.9223 - val_loss: 0.2224 - val_accuracy: 0.9348\n",
            "Epoch 82/200\n",
            "91/91 [==============================] - 0s 2ms/step - loss: 0.2219 - accuracy: 0.9230 - val_loss: 0.2224 - val_accuracy: 0.9348\n",
            "Epoch 83/200\n",
            "91/91 [==============================] - 0s 2ms/step - loss: 0.2215 - accuracy: 0.9187 - val_loss: 0.2221 - val_accuracy: 0.9348\n",
            "Epoch 84/200\n",
            "91/91 [==============================] - 0s 2ms/step - loss: 0.2200 - accuracy: 0.9245 - val_loss: 0.2222 - val_accuracy: 0.9348\n",
            "Epoch 85/200\n",
            "91/91 [==============================] - 0s 2ms/step - loss: 0.2113 - accuracy: 0.9243 - val_loss: 0.2218 - val_accuracy: 0.9348\n",
            "Epoch 86/200\n",
            "91/91 [==============================] - 0s 2ms/step - loss: 0.2157 - accuracy: 0.9281 - val_loss: 0.2218 - val_accuracy: 0.9348\n",
            "Epoch 87/200\n",
            "91/91 [==============================] - 0s 2ms/step - loss: 0.2313 - accuracy: 0.9198 - val_loss: 0.2218 - val_accuracy: 0.9348\n",
            "Epoch 88/200\n",
            "91/91 [==============================] - 0s 2ms/step - loss: 0.2233 - accuracy: 0.9253 - val_loss: 0.2217 - val_accuracy: 0.9348\n",
            "Epoch 89/200\n",
            "91/91 [==============================] - 0s 2ms/step - loss: 0.2100 - accuracy: 0.9226 - val_loss: 0.2221 - val_accuracy: 0.9348\n",
            "Epoch 90/200\n",
            "91/91 [==============================] - 0s 2ms/step - loss: 0.2228 - accuracy: 0.9196 - val_loss: 0.2219 - val_accuracy: 0.9348\n",
            "Epoch 91/200\n",
            "91/91 [==============================] - 0s 2ms/step - loss: 0.2124 - accuracy: 0.9262 - val_loss: 0.2217 - val_accuracy: 0.9348\n",
            "Epoch 92/200\n",
            "91/91 [==============================] - 0s 2ms/step - loss: 0.2105 - accuracy: 0.9224 - val_loss: 0.2219 - val_accuracy: 0.9348\n",
            "Epoch 93/200\n",
            "91/91 [==============================] - 0s 2ms/step - loss: 0.2126 - accuracy: 0.9278 - val_loss: 0.2216 - val_accuracy: 0.9348\n",
            "Epoch 94/200\n",
            "91/91 [==============================] - 0s 2ms/step - loss: 0.2098 - accuracy: 0.9278 - val_loss: 0.2220 - val_accuracy: 0.9348\n",
            "Epoch 95/200\n",
            "91/91 [==============================] - 0s 2ms/step - loss: 0.2248 - accuracy: 0.9225 - val_loss: 0.2219 - val_accuracy: 0.9348\n",
            "Epoch 96/200\n",
            "91/91 [==============================] - 0s 2ms/step - loss: 0.2144 - accuracy: 0.9264 - val_loss: 0.2220 - val_accuracy: 0.9348\n",
            "Epoch 97/200\n",
            "91/91 [==============================] - 0s 2ms/step - loss: 0.2186 - accuracy: 0.9269 - val_loss: 0.2219 - val_accuracy: 0.9348\n",
            "Epoch 98/200\n",
            "91/91 [==============================] - 0s 2ms/step - loss: 0.2233 - accuracy: 0.9237 - val_loss: 0.2220 - val_accuracy: 0.9348\n",
            "Epoch 99/200\n",
            "91/91 [==============================] - 0s 2ms/step - loss: 0.2097 - accuracy: 0.9257 - val_loss: 0.2220 - val_accuracy: 0.9348\n",
            "Epoch 100/200\n",
            "91/91 [==============================] - 0s 2ms/step - loss: 0.2142 - accuracy: 0.9205 - val_loss: 0.2220 - val_accuracy: 0.9348\n",
            "Epoch 101/200\n",
            "91/91 [==============================] - 0s 2ms/step - loss: 0.2153 - accuracy: 0.9289 - val_loss: 0.2217 - val_accuracy: 0.9348\n",
            "Epoch 102/200\n",
            "91/91 [==============================] - 0s 2ms/step - loss: 0.2115 - accuracy: 0.9299 - val_loss: 0.2217 - val_accuracy: 0.9348\n",
            "Epoch 103/200\n",
            "91/91 [==============================] - 0s 2ms/step - loss: 0.2312 - accuracy: 0.9126 - val_loss: 0.2221 - val_accuracy: 0.9317\n",
            "Epoch 104/200\n",
            "91/91 [==============================] - 0s 2ms/step - loss: 0.2156 - accuracy: 0.9263 - val_loss: 0.2218 - val_accuracy: 0.9317\n",
            "Epoch 105/200\n",
            "91/91 [==============================] - 0s 2ms/step - loss: 0.2083 - accuracy: 0.9274 - val_loss: 0.2219 - val_accuracy: 0.9348\n",
            "Epoch 106/200\n",
            "91/91 [==============================] - 0s 2ms/step - loss: 0.2149 - accuracy: 0.9213 - val_loss: 0.2218 - val_accuracy: 0.9348\n",
            "Epoch 107/200\n",
            "91/91 [==============================] - 0s 2ms/step - loss: 0.2239 - accuracy: 0.9203 - val_loss: 0.2218 - val_accuracy: 0.9348\n",
            "Epoch 108/200\n",
            "91/91 [==============================] - 0s 2ms/step - loss: 0.2077 - accuracy: 0.9335 - val_loss: 0.2219 - val_accuracy: 0.9348\n",
            "Epoch 109/200\n",
            "91/91 [==============================] - 0s 2ms/step - loss: 0.2335 - accuracy: 0.9188 - val_loss: 0.2217 - val_accuracy: 0.9286\n",
            "Epoch 110/200\n",
            "91/91 [==============================] - 0s 2ms/step - loss: 0.2201 - accuracy: 0.9210 - val_loss: 0.2220 - val_accuracy: 0.9286\n",
            "Epoch 111/200\n",
            "91/91 [==============================] - 0s 2ms/step - loss: 0.2249 - accuracy: 0.9149 - val_loss: 0.2220 - val_accuracy: 0.9317\n",
            "Epoch 112/200\n",
            "91/91 [==============================] - 0s 2ms/step - loss: 0.2258 - accuracy: 0.9147 - val_loss: 0.2218 - val_accuracy: 0.9286\n",
            "Epoch 113/200\n",
            "91/91 [==============================] - 0s 2ms/step - loss: 0.2235 - accuracy: 0.9187 - val_loss: 0.2217 - val_accuracy: 0.9317\n",
            "Epoch 114/200\n",
            "91/91 [==============================] - 0s 2ms/step - loss: 0.2063 - accuracy: 0.9269 - val_loss: 0.2218 - val_accuracy: 0.9286\n",
            "Epoch 115/200\n",
            "91/91 [==============================] - 0s 2ms/step - loss: 0.2204 - accuracy: 0.9164 - val_loss: 0.2218 - val_accuracy: 0.9317\n",
            "Epoch 116/200\n",
            "91/91 [==============================] - 0s 2ms/step - loss: 0.2091 - accuracy: 0.9240 - val_loss: 0.2218 - val_accuracy: 0.9317\n",
            "Epoch 117/200\n",
            "91/91 [==============================] - 0s 2ms/step - loss: 0.2041 - accuracy: 0.9327 - val_loss: 0.2217 - val_accuracy: 0.9317\n",
            "Epoch 118/200\n",
            "91/91 [==============================] - 0s 2ms/step - loss: 0.2272 - accuracy: 0.9199 - val_loss: 0.2216 - val_accuracy: 0.9286\n",
            "Epoch 119/200\n",
            "91/91 [==============================] - 0s 2ms/step - loss: 0.2158 - accuracy: 0.9226 - val_loss: 0.2215 - val_accuracy: 0.9317\n",
            "Epoch 120/200\n",
            "91/91 [==============================] - 0s 2ms/step - loss: 0.2348 - accuracy: 0.9136 - val_loss: 0.2218 - val_accuracy: 0.9286\n",
            "Epoch 121/200\n",
            "91/91 [==============================] - 0s 2ms/step - loss: 0.2098 - accuracy: 0.9219 - val_loss: 0.2218 - val_accuracy: 0.9286\n",
            "Epoch 122/200\n",
            "91/91 [==============================] - 0s 2ms/step - loss: 0.2261 - accuracy: 0.9156 - val_loss: 0.2216 - val_accuracy: 0.9286\n",
            "Epoch 123/200\n",
            "91/91 [==============================] - 0s 2ms/step - loss: 0.2181 - accuracy: 0.9231 - val_loss: 0.2217 - val_accuracy: 0.9286\n",
            "Epoch 124/200\n",
            "91/91 [==============================] - 0s 2ms/step - loss: 0.2200 - accuracy: 0.9211 - val_loss: 0.2217 - val_accuracy: 0.9286\n",
            "Epoch 125/200\n",
            "91/91 [==============================] - 0s 2ms/step - loss: 0.2108 - accuracy: 0.9300 - val_loss: 0.2219 - val_accuracy: 0.9286\n",
            "Epoch 126/200\n",
            "91/91 [==============================] - 0s 2ms/step - loss: 0.2103 - accuracy: 0.9261 - val_loss: 0.2216 - val_accuracy: 0.9286\n",
            "Epoch 127/200\n",
            "91/91 [==============================] - 0s 2ms/step - loss: 0.2218 - accuracy: 0.9209 - val_loss: 0.2216 - val_accuracy: 0.9286\n",
            "Epoch 128/200\n",
            "91/91 [==============================] - 0s 2ms/step - loss: 0.2087 - accuracy: 0.9255 - val_loss: 0.2219 - val_accuracy: 0.9286\n",
            "Epoch 129/200\n",
            "91/91 [==============================] - 0s 2ms/step - loss: 0.2004 - accuracy: 0.9255 - val_loss: 0.2214 - val_accuracy: 0.9286\n",
            "Epoch 130/200\n",
            "91/91 [==============================] - 0s 2ms/step - loss: 0.1949 - accuracy: 0.9328 - val_loss: 0.2214 - val_accuracy: 0.9286\n",
            "Epoch 131/200\n",
            "91/91 [==============================] - 0s 2ms/step - loss: 0.2018 - accuracy: 0.9338 - val_loss: 0.2213 - val_accuracy: 0.9286\n",
            "Epoch 132/200\n",
            "91/91 [==============================] - 0s 2ms/step - loss: 0.2112 - accuracy: 0.9207 - val_loss: 0.2216 - val_accuracy: 0.9286\n",
            "Epoch 133/200\n",
            "91/91 [==============================] - 0s 2ms/step - loss: 0.2160 - accuracy: 0.9215 - val_loss: 0.2215 - val_accuracy: 0.9286\n",
            "Epoch 134/200\n",
            "91/91 [==============================] - 0s 2ms/step - loss: 0.2183 - accuracy: 0.9246 - val_loss: 0.2215 - val_accuracy: 0.9286\n",
            "Epoch 135/200\n",
            "91/91 [==============================] - 0s 2ms/step - loss: 0.2033 - accuracy: 0.9282 - val_loss: 0.2212 - val_accuracy: 0.9286\n",
            "Epoch 136/200\n",
            "91/91 [==============================] - 0s 2ms/step - loss: 0.2230 - accuracy: 0.9217 - val_loss: 0.2216 - val_accuracy: 0.9286\n",
            "Epoch 137/200\n",
            "91/91 [==============================] - 0s 2ms/step - loss: 0.2368 - accuracy: 0.9129 - val_loss: 0.2216 - val_accuracy: 0.9286\n",
            "Epoch 138/200\n",
            "91/91 [==============================] - 0s 2ms/step - loss: 0.2285 - accuracy: 0.9190 - val_loss: 0.2216 - val_accuracy: 0.9286\n",
            "Epoch 139/200\n",
            "91/91 [==============================] - 0s 2ms/step - loss: 0.2182 - accuracy: 0.9177 - val_loss: 0.2215 - val_accuracy: 0.9286\n",
            "Epoch 140/200\n",
            "91/91 [==============================] - 0s 2ms/step - loss: 0.2007 - accuracy: 0.9322 - val_loss: 0.2214 - val_accuracy: 0.9286\n",
            "Epoch 141/200\n",
            "91/91 [==============================] - 0s 2ms/step - loss: 0.2199 - accuracy: 0.9236 - val_loss: 0.2214 - val_accuracy: 0.9286\n",
            "Epoch 142/200\n",
            "91/91 [==============================] - 0s 2ms/step - loss: 0.2217 - accuracy: 0.9189 - val_loss: 0.2214 - val_accuracy: 0.9286\n",
            "Epoch 143/200\n",
            "91/91 [==============================] - 0s 2ms/step - loss: 0.2166 - accuracy: 0.9240 - val_loss: 0.2214 - val_accuracy: 0.9286\n",
            "Epoch 144/200\n",
            "91/91 [==============================] - 0s 2ms/step - loss: 0.2262 - accuracy: 0.9156 - val_loss: 0.2212 - val_accuracy: 0.9286\n",
            "Epoch 145/200\n",
            "91/91 [==============================] - 0s 2ms/step - loss: 0.2035 - accuracy: 0.9302 - val_loss: 0.2212 - val_accuracy: 0.9286\n",
            "Epoch 146/200\n",
            "91/91 [==============================] - 0s 2ms/step - loss: 0.2053 - accuracy: 0.9326 - val_loss: 0.2215 - val_accuracy: 0.9286\n",
            "Epoch 147/200\n",
            "91/91 [==============================] - 0s 2ms/step - loss: 0.1979 - accuracy: 0.9268 - val_loss: 0.2211 - val_accuracy: 0.9286\n",
            "Epoch 148/200\n",
            "91/91 [==============================] - 0s 2ms/step - loss: 0.2093 - accuracy: 0.9192 - val_loss: 0.2214 - val_accuracy: 0.9286\n",
            "Epoch 149/200\n",
            "91/91 [==============================] - 0s 2ms/step - loss: 0.2122 - accuracy: 0.9233 - val_loss: 0.2213 - val_accuracy: 0.9286\n",
            "Epoch 150/200\n",
            "91/91 [==============================] - 0s 2ms/step - loss: 0.2234 - accuracy: 0.9191 - val_loss: 0.2214 - val_accuracy: 0.9286\n",
            "Epoch 151/200\n",
            "91/91 [==============================] - 0s 2ms/step - loss: 0.2080 - accuracy: 0.9239 - val_loss: 0.2212 - val_accuracy: 0.9286\n",
            "Epoch 152/200\n",
            "91/91 [==============================] - 0s 2ms/step - loss: 0.1991 - accuracy: 0.9271 - val_loss: 0.2213 - val_accuracy: 0.9286\n",
            "Epoch 153/200\n",
            "91/91 [==============================] - 0s 2ms/step - loss: 0.2163 - accuracy: 0.9237 - val_loss: 0.2212 - val_accuracy: 0.9286\n",
            "Epoch 154/200\n",
            "91/91 [==============================] - 0s 2ms/step - loss: 0.1999 - accuracy: 0.9289 - val_loss: 0.2212 - val_accuracy: 0.9286\n",
            "Epoch 155/200\n",
            "91/91 [==============================] - 0s 2ms/step - loss: 0.2021 - accuracy: 0.9219 - val_loss: 0.2212 - val_accuracy: 0.9286\n",
            "Epoch 156/200\n",
            "91/91 [==============================] - 0s 2ms/step - loss: 0.2026 - accuracy: 0.9273 - val_loss: 0.2211 - val_accuracy: 0.9286\n",
            "Epoch 157/200\n",
            "91/91 [==============================] - 0s 2ms/step - loss: 0.2175 - accuracy: 0.9218 - val_loss: 0.2210 - val_accuracy: 0.9286\n",
            "Epoch 158/200\n",
            "91/91 [==============================] - 0s 2ms/step - loss: 0.2122 - accuracy: 0.9206 - val_loss: 0.2210 - val_accuracy: 0.9286\n",
            "Epoch 159/200\n",
            "91/91 [==============================] - 0s 2ms/step - loss: 0.2202 - accuracy: 0.9222 - val_loss: 0.2212 - val_accuracy: 0.9286\n",
            "Epoch 160/200\n",
            "91/91 [==============================] - 0s 2ms/step - loss: 0.1981 - accuracy: 0.9241 - val_loss: 0.2214 - val_accuracy: 0.9286\n",
            "Epoch 161/200\n",
            "91/91 [==============================] - 0s 2ms/step - loss: 0.2165 - accuracy: 0.9211 - val_loss: 0.2212 - val_accuracy: 0.9286\n",
            "Epoch 162/200\n",
            "91/91 [==============================] - 0s 2ms/step - loss: 0.2309 - accuracy: 0.9168 - val_loss: 0.2214 - val_accuracy: 0.9286\n",
            "Epoch 163/200\n",
            "91/91 [==============================] - 0s 2ms/step - loss: 0.2014 - accuracy: 0.9254 - val_loss: 0.2210 - val_accuracy: 0.9286\n",
            "Epoch 164/200\n",
            "91/91 [==============================] - 0s 2ms/step - loss: 0.1984 - accuracy: 0.9327 - val_loss: 0.2210 - val_accuracy: 0.9286\n",
            "Epoch 165/200\n",
            "91/91 [==============================] - 0s 2ms/step - loss: 0.1969 - accuracy: 0.9290 - val_loss: 0.2213 - val_accuracy: 0.9286\n",
            "Epoch 166/200\n",
            "91/91 [==============================] - 0s 2ms/step - loss: 0.2287 - accuracy: 0.9162 - val_loss: 0.2210 - val_accuracy: 0.9286\n",
            "Epoch 167/200\n",
            "91/91 [==============================] - 0s 2ms/step - loss: 0.2143 - accuracy: 0.9231 - val_loss: 0.2210 - val_accuracy: 0.9286\n",
            "Epoch 168/200\n",
            "91/91 [==============================] - 0s 2ms/step - loss: 0.2070 - accuracy: 0.9222 - val_loss: 0.2207 - val_accuracy: 0.9286\n",
            "Epoch 169/200\n",
            "91/91 [==============================] - 0s 2ms/step - loss: 0.2004 - accuracy: 0.9253 - val_loss: 0.2209 - val_accuracy: 0.9286\n",
            "Epoch 170/200\n",
            "91/91 [==============================] - 0s 2ms/step - loss: 0.2061 - accuracy: 0.9257 - val_loss: 0.2213 - val_accuracy: 0.9286\n",
            "Epoch 171/200\n",
            "91/91 [==============================] - 0s 2ms/step - loss: 0.2052 - accuracy: 0.9292 - val_loss: 0.2212 - val_accuracy: 0.9286\n",
            "Epoch 172/200\n",
            "91/91 [==============================] - 0s 2ms/step - loss: 0.2153 - accuracy: 0.9216 - val_loss: 0.2212 - val_accuracy: 0.9286\n",
            "Epoch 173/200\n",
            "91/91 [==============================] - 0s 2ms/step - loss: 0.2051 - accuracy: 0.9343 - val_loss: 0.2213 - val_accuracy: 0.9286\n",
            "Epoch 174/200\n",
            "91/91 [==============================] - 0s 2ms/step - loss: 0.2264 - accuracy: 0.9248 - val_loss: 0.2210 - val_accuracy: 0.9286\n",
            "Epoch 175/200\n",
            "91/91 [==============================] - 0s 2ms/step - loss: 0.2085 - accuracy: 0.9220 - val_loss: 0.2213 - val_accuracy: 0.9286\n",
            "Epoch 176/200\n",
            "91/91 [==============================] - 0s 2ms/step - loss: 0.2143 - accuracy: 0.9223 - val_loss: 0.2212 - val_accuracy: 0.9286\n",
            "Epoch 177/200\n",
            "91/91 [==============================] - 0s 2ms/step - loss: 0.2176 - accuracy: 0.9224 - val_loss: 0.2214 - val_accuracy: 0.9286\n",
            "Epoch 178/200\n",
            "91/91 [==============================] - 0s 2ms/step - loss: 0.2024 - accuracy: 0.9252 - val_loss: 0.2212 - val_accuracy: 0.9286\n",
            "Epoch 179/200\n",
            "91/91 [==============================] - 0s 2ms/step - loss: 0.1933 - accuracy: 0.9320 - val_loss: 0.2210 - val_accuracy: 0.9286\n",
            "Epoch 180/200\n",
            "91/91 [==============================] - 0s 2ms/step - loss: 0.2119 - accuracy: 0.9248 - val_loss: 0.2211 - val_accuracy: 0.9286\n",
            "Epoch 181/200\n",
            "91/91 [==============================] - 0s 2ms/step - loss: 0.2095 - accuracy: 0.9262 - val_loss: 0.2212 - val_accuracy: 0.9286\n",
            "Epoch 182/200\n",
            "91/91 [==============================] - 0s 2ms/step - loss: 0.1946 - accuracy: 0.9289 - val_loss: 0.2209 - val_accuracy: 0.9286\n",
            "Epoch 183/200\n",
            "91/91 [==============================] - 0s 2ms/step - loss: 0.2173 - accuracy: 0.9199 - val_loss: 0.2209 - val_accuracy: 0.9286\n",
            "Epoch 184/200\n",
            "91/91 [==============================] - 0s 2ms/step - loss: 0.2103 - accuracy: 0.9247 - val_loss: 0.2211 - val_accuracy: 0.9286\n",
            "Epoch 185/200\n",
            "91/91 [==============================] - 0s 2ms/step - loss: 0.2112 - accuracy: 0.9286 - val_loss: 0.2212 - val_accuracy: 0.9286\n",
            "Epoch 186/200\n",
            "91/91 [==============================] - 0s 2ms/step - loss: 0.2212 - accuracy: 0.9285 - val_loss: 0.2211 - val_accuracy: 0.9286\n",
            "Epoch 187/200\n",
            "91/91 [==============================] - 0s 2ms/step - loss: 0.2100 - accuracy: 0.9239 - val_loss: 0.2209 - val_accuracy: 0.9286\n",
            "Epoch 188/200\n",
            "91/91 [==============================] - 0s 2ms/step - loss: 0.2147 - accuracy: 0.9219 - val_loss: 0.2210 - val_accuracy: 0.9286\n",
            "Epoch 189/200\n",
            "91/91 [==============================] - 0s 2ms/step - loss: 0.2137 - accuracy: 0.9180 - val_loss: 0.2213 - val_accuracy: 0.9286\n",
            "Epoch 190/200\n",
            "91/91 [==============================] - 0s 2ms/step - loss: 0.2087 - accuracy: 0.9228 - val_loss: 0.2210 - val_accuracy: 0.9286\n",
            "Epoch 191/200\n",
            "91/91 [==============================] - 0s 2ms/step - loss: 0.2085 - accuracy: 0.9223 - val_loss: 0.2208 - val_accuracy: 0.9286\n",
            "Epoch 192/200\n",
            "91/91 [==============================] - 0s 2ms/step - loss: 0.2071 - accuracy: 0.9243 - val_loss: 0.2209 - val_accuracy: 0.9286\n",
            "Epoch 193/200\n",
            "91/91 [==============================] - 0s 2ms/step - loss: 0.2260 - accuracy: 0.9266 - val_loss: 0.2207 - val_accuracy: 0.9286\n",
            "Epoch 194/200\n",
            "91/91 [==============================] - 0s 2ms/step - loss: 0.2119 - accuracy: 0.9265 - val_loss: 0.2210 - val_accuracy: 0.9286\n",
            "Epoch 195/200\n",
            "91/91 [==============================] - 0s 2ms/step - loss: 0.1975 - accuracy: 0.9319 - val_loss: 0.2209 - val_accuracy: 0.9286\n",
            "Epoch 196/200\n",
            "91/91 [==============================] - 0s 2ms/step - loss: 0.2200 - accuracy: 0.9218 - val_loss: 0.2211 - val_accuracy: 0.9286\n",
            "Epoch 197/200\n",
            "91/91 [==============================] - 0s 2ms/step - loss: 0.2151 - accuracy: 0.9227 - val_loss: 0.2209 - val_accuracy: 0.9286\n",
            "Epoch 198/200\n",
            "91/91 [==============================] - 0s 2ms/step - loss: 0.2157 - accuracy: 0.9221 - val_loss: 0.2210 - val_accuracy: 0.9286\n",
            "Epoch 199/200\n",
            "91/91 [==============================] - 0s 2ms/step - loss: 0.2032 - accuracy: 0.9242 - val_loss: 0.2211 - val_accuracy: 0.9286\n",
            "Epoch 200/200\n",
            "91/91 [==============================] - 0s 2ms/step - loss: 0.2162 - accuracy: 0.9145 - val_loss: 0.2214 - val_accuracy: 0.9286\n"
          ],
          "name": "stdout"
        }
      ]
    },
    {
      "cell_type": "code",
      "metadata": {
        "colab": {
          "base_uri": "https://localhost:8080/"
        },
        "id": "dP6xxGQzuGdB",
        "outputId": "bf02e11e-bb10-4604-97e3-bc8e4d1d6360"
      },
      "source": [
        "model.summary()"
      ],
      "execution_count": null,
      "outputs": [
        {
          "output_type": "stream",
          "text": [
            "Model: \"sequential_4\"\n",
            "_________________________________________________________________\n",
            "Layer (type)                 Output Shape              Param #   \n",
            "=================================================================\n",
            "dense_4 (Dense)              (None, 1)                 58        \n",
            "=================================================================\n",
            "Total params: 58\n",
            "Trainable params: 58\n",
            "Non-trainable params: 0\n",
            "_________________________________________________________________\n"
          ],
          "name": "stdout"
        }
      ]
    },
    {
      "cell_type": "code",
      "metadata": {
        "colab": {
          "base_uri": "https://localhost:8080/",
          "height": 324
        },
        "id": "dYSXL2BewJcr",
        "outputId": "58979fa2-a4df-4af3-a825-e048b757e06e"
      },
      "source": [
        "import pandas as pd\n",
        "pd.DataFrame(a.history).plot(figsize=(8, 5))\n",
        "plt.grid(True)\n",
        "plt.gca().set_ylim(0, 1) # set the vertical range to [0-1]\n",
        "plt.show()"
      ],
      "execution_count": null,
      "outputs": [
        {
          "output_type": "display_data",
          "data": {
            "image/png": "[encoded data removed]",
            "text/plain": [
              "<Figure size 576x360 with 1 Axes>"
            ]
          },
          "metadata": {
            "tags": [],
            "needs_background": "light"
          }
        }
      ]
    },
    {
      "cell_type": "markdown",
      "metadata": {
        "id": "PSDYw2bYZhQx"
      },
      "source": [
        "# Evaluation"
      ]
    },
    {
      "cell_type": "code",
      "metadata": {
        "colab": {
          "base_uri": "https://localhost:8080/"
        },
        "id": "oXh0MX_duwY_",
        "outputId": "d161548e-3155-44e0-8596-2cb15041d075"
      },
      "source": [
        "# Test, Loss and accuracy\n",
        "loss_and_metrics = model.evaluate(X_test, y_test)\n",
        "print('Loss = ',loss_and_metrics[0])\n",
        "print('Accuracy = ',loss_and_metrics[1])"
      ],
      "execution_count": null,
      "outputs": [
        {
          "output_type": "stream",
          "text": [
            "44/44 [==============================] - 0s 1ms/step - loss: 0.2183 - accuracy: 0.9225\n",
            "Loss =  0.2183072865009308\n",
            "Accuracy =  0.9225199222564697\n"
          ],
          "name": "stdout"
        }
      ]
    },
    {
      "cell_type": "code",
      "metadata": {
        "colab": {
          "base_uri": "https://localhost:8080/"
        },
        "id": "3lKOhwt_XLI_",
        "outputId": "2bef91f8-c721-406f-d4a3-3ebaa4d11895"
      },
      "source": [
        "pred=model.predict_classes(X_test)\n",
        "pred=[i for x in pred for i in x]"
      ],
      "execution_count": null,
      "outputs": [
        {
          "output_type": "stream",
          "text": [
            "/usr/local/lib/python3.7/dist-packages/keras/engine/sequential.py:450: UserWarning: `model.predict_classes()` is deprecated and will be removed after 2021-01-01. Please use instead:* `np.argmax(model.predict(x), axis=-1)`,   if your model does multi-class classification   (e.g. if it uses a `softmax` last-layer activation).* `(model.predict(x) > 0.5).astype(\"int32\")`,   if your model does binary classification   (e.g. if it uses a `sigmoid` last-layer activation).\n",
            "  warnings.warn('`model.predict_classes()` is deprecated and '\n"
          ],
          "name": "stderr"
        }
      ]
    },
    {
      "cell_type": "code",
      "metadata": {
        "colab": {
          "base_uri": "https://localhost:8080/",
          "height": 283
        },
        "id": "1vLdr0PxS5pL",
        "outputId": "9860f0a0-ca6d-4f61-c79c-91fbb56a278b"
      },
      "source": [
        "cm = confusion_matrix(y_test,pred)\n",
        "sns.heatmap(cm,annot=True,fmt=\"d\")"
      ],
      "execution_count": null,
      "outputs": [
        {
          "output_type": "execute_result",
          "data": {
            "text/plain": [
              "<matplotlib.axes._subplots.AxesSubplot at 0x7fba4c8c68d0>"
            ]
          },
          "metadata": {
            "tags": []
          },
          "execution_count": 72
        },
        {
          "output_type": "display_data",
          "data": {
            "image/png": "[encoded data removed]",
            "text/plain": [
              "<Figure size 432x288 with 2 Axes>"
            ]
          },
          "metadata": {
            "tags": [],
            "needs_background": "light"
          }
        }
      ]
    }
  ]
}